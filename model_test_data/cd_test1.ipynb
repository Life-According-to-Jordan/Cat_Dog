{
 "cells": [
  {
   "cell_type": "code",
   "execution_count": 24,
   "metadata": {},
   "outputs": [
    {
     "name": "stdout",
     "output_type": "stream",
     "text": [
      "Found 20001 images belonging to 2 classes.\n",
      "Found 5000 images belonging to 2 classes.\n"
     ]
    },
    {
     "name": "stderr",
     "output_type": "stream",
     "text": [
      "/Library/Frameworks/Python.framework/Versions/3.6/lib/python3.6/site-packages/ipykernel_launcher.py:85: UserWarning: Update your `fit_generator` call to the Keras 2 API: `fit_generator(<keras.pre..., epochs=10, steps_per_epoch=12, validation_data=<keras.pre..., validation_steps=40)`\n"
     ]
    },
    {
     "name": "stdout",
     "output_type": "stream",
     "text": [
      "Epoch 1/10\n",
      "12/12 [==============================] - 16s 1s/step - loss: 0.7109 - acc: 0.4948 - val_loss: 0.6992 - val_acc: 0.5094\n",
      "Epoch 2/10\n",
      "12/12 [==============================] - 15s 1s/step - loss: 0.7029 - acc: 0.5469 - val_loss: 0.6935 - val_acc: 0.4922\n",
      "Epoch 3/10\n",
      "12/12 [==============================] - 14s 1s/step - loss: 0.6944 - acc: 0.5000 - val_loss: 0.6901 - val_acc: 0.5094\n",
      "Epoch 4/10\n",
      "12/12 [==============================] - 16s 1s/step - loss: 0.7023 - acc: 0.4427 - val_loss: 0.6925 - val_acc: 0.5047\n",
      "Epoch 5/10\n",
      "12/12 [==============================] - 16s 1s/step - loss: 0.6887 - acc: 0.5469 - val_loss: 0.6872 - val_acc: 0.5273\n",
      "Epoch 6/10\n",
      "12/12 [==============================] - 17s 1s/step - loss: 0.6993 - acc: 0.5000 - val_loss: 0.6876 - val_acc: 0.5102\n",
      "Epoch 7/10\n",
      "12/12 [==============================] - 16s 1s/step - loss: 0.6929 - acc: 0.4583 - val_loss: 0.6874 - val_acc: 0.5273\n",
      "Epoch 8/10\n",
      "12/12 [==============================] - 15s 1s/step - loss: 0.6919 - acc: 0.5156 - val_loss: 0.6883 - val_acc: 0.5102\n",
      "Epoch 9/10\n",
      "12/12 [==============================] - 15s 1s/step - loss: 0.6821 - acc: 0.5365 - val_loss: 0.6791 - val_acc: 0.5234\n",
      "Epoch 10/10\n",
      "12/12 [==============================] - 16s 1s/step - loss: 0.6944 - acc: 0.5000 - val_loss: 0.6876 - val_acc: 0.6344\n"
     ]
    },
    {
     "data": {
      "text/plain": [
       "[0.6876432403922081, 0.634375]"
      ]
     },
     "execution_count": 24,
     "metadata": {},
     "output_type": "execute_result"
    }
   ],
   "source": [
    "import PIL\n",
    "import h5py\n",
    "import pandas as pd\n",
    "import numpy as np\n",
    "import tensorflow as tf\n",
    "import os\n",
    "import keras\n",
    "from keras.models import Sequential\n",
    "from keras.layers import Activation, Dropout, Flatten, Dense\n",
    "from keras.layers import Conv2D, MaxPooling2D, ZeroPadding2D\n",
    "from keras.preprocessing.image import ImageDataGenerator\n",
    "from keras.applications import imagenet_utils\n",
    "from keras import optimizers\n",
    "from ipykernel import kernelapp as app\n",
    "\n",
    "train_data_dir = 'data/train'\n",
    "validation_data_dir = 'data/validation'\n",
    "\n",
    "img_width, img_height = 150, 150\n",
    "\n",
    "# used to rescale the pixel values from [0, 255] to [0, 1] interval\n",
    "datagen = ImageDataGenerator(rescale=1./255)\n",
    "\n",
    "# automagically retrieve images and their classes for train and validation sets\n",
    "train_generator = datagen.flow_from_directory(\n",
    "        train_data_dir,\n",
    "        target_size=(img_width, img_height),\n",
    "        batch_size=16,\n",
    "        class_mode='binary')\n",
    "\n",
    "validation_generator = datagen.flow_from_directory(\n",
    "        validation_data_dir,\n",
    "        target_size=(img_width, img_height),\n",
    "        batch_size=32,\n",
    "        class_mode='binary')\n",
    "\n",
    "#layer 1\n",
    "model = Sequential()\n",
    "model.add(Conv2D(32, (3, 3), input_shape=(img_width, img_height,3)))\n",
    "model.add(Activation('relu'))\n",
    "model.add(MaxPooling2D(pool_size=(3, 3)))\n",
    "\n",
    "#layer 2\n",
    "model.add(Conv2D(32, (3, 3)))\n",
    "model.add(Activation('relu'))\n",
    "model.add(MaxPooling2D(pool_size=(3, 3)))\n",
    "\n",
    "#layer 3\n",
    "model.add(Conv2D(64, (3, 3)))\n",
    "model.add(Activation('relu'))\n",
    "model.add(MaxPooling2D(pool_size=(3, 3)))\n",
    "\n",
    "#paramters\n",
    "model.add(Flatten())\n",
    "model.add(Dense(64))\n",
    "model.add(Activation('relu'))\n",
    "model.add(Dropout(0.5))\n",
    "model.add(Dense(1))\n",
    "model.add(Activation('sigmoid'))\n",
    "\n",
    "model.compile(loss='binary_crossentropy',\n",
    "              optimizer='rmsprop',\n",
    "              metrics=['accuracy'])\n",
    "\n",
    "#model parameters\n",
    "\n",
    "#iterations\n",
    "epochs = 10\n",
    "\n",
    "#training data size\n",
    "nb_train_samples = 200\n",
    "\n",
    "#validation data size \n",
    "validation_steps = 40\n",
    "\n",
    "#steps per iteration\n",
    "steps_per_epoch = 12\n",
    "\n",
    "model.fit_generator(\n",
    "        train_generator,\n",
    "        samples_per_epoch = nb_train_samples,\n",
    "        epochs            = epochs,\n",
    "        steps_per_epoch   = steps_per_epoch,\n",
    "        validation_data   = validation_generator,\n",
    "        validation_steps  = validation_steps)\n",
    "\n",
    "model.evaluate_generator(validation_generator, validation_steps)"
   ]
  },
  {
   "cell_type": "code",
   "execution_count": 30,
   "metadata": {},
   "outputs": [
    {
     "name": "stdout",
     "output_type": "stream",
     "text": [
      "Found 1 images belonging to 1 classes.\n",
      "Epoch 1/10\n"
     ]
    },
    {
     "name": "stderr",
     "output_type": "stream",
     "text": [
      "/Library/Frameworks/Python.framework/Versions/3.6/lib/python3.6/site-packages/ipykernel_launcher.py:16: UserWarning: Update your `fit_generator` call to the Keras 2 API: `fit_generator(<keras.pre..., epochs=10, steps_per_epoch=6, validation_data=<keras.pre..., validation_steps=1)`\n",
      "  app.launch_new_instance()\n"
     ]
    },
    {
     "name": "stdout",
     "output_type": "stream",
     "text": [
      "6/6 [==============================] - 1s 238ms/step - loss: 0.0045 - acc: 1.0000 - val_loss: 1.0000e-07 - val_acc: 1.0000\n",
      "Epoch 2/10\n",
      "6/6 [==============================] - 1s 185ms/step - loss: 1.0000e-07 - acc: 1.0000 - val_loss: 1.0000e-07 - val_acc: 1.0000\n",
      "Epoch 3/10\n",
      "6/6 [==============================] - 1s 211ms/step - loss: 1.6523e-04 - acc: 1.0000 - val_loss: 1.0000e-07 - val_acc: 1.0000\n",
      "Epoch 4/10\n",
      "6/6 [==============================] - 1s 201ms/step - loss: 1.0000e-07 - acc: 1.0000 - val_loss: 1.0000e-07 - val_acc: 1.0000\n",
      "Epoch 5/10\n",
      "6/6 [==============================] - 1s 207ms/step - loss: 1.3793e-07 - acc: 1.0000 - val_loss: 1.0000e-07 - val_acc: 1.0000\n",
      "Epoch 6/10\n",
      "6/6 [==============================] - 1s 186ms/step - loss: 1.0000e-07 - acc: 1.0000 - val_loss: 1.0000e-07 - val_acc: 1.0000\n",
      "Epoch 7/10\n",
      "6/6 [==============================] - 1s 190ms/step - loss: 1.0000e-07 - acc: 1.0000 - val_loss: 1.0000e-07 - val_acc: 1.0000\n",
      "Epoch 8/10\n",
      "6/6 [==============================] - 1s 204ms/step - loss: 1.9419e-05 - acc: 1.0000 - val_loss: 1.0000e-07 - val_acc: 1.0000\n",
      "Epoch 9/10\n",
      "6/6 [==============================] - 2s 354ms/step - loss: 4.4078e-07 - acc: 1.0000 - val_loss: 1.0000e-07 - val_acc: 1.0000\n",
      "Epoch 10/10\n",
      "6/6 [==============================] - 1s 211ms/step - loss: 1.0000e-07 - acc: 1.0000 - val_loss: 1.0000e-07 - val_acc: 1.0000\n"
     ]
    },
    {
     "data": {
      "text/plain": [
       "<keras.callbacks.History at 0x105e0d7f0>"
      ]
     },
     "execution_count": 30,
     "metadata": {},
     "output_type": "execute_result"
    }
   ],
   "source": [
    "test_data_dir = 'data/test'\n",
    "\n",
    "test_generator = datagen.flow_from_directory(\n",
    "        test_data_dir,\n",
    "        target_size=(img_width, img_height),\n",
    "        class_mode='binary')\n",
    "\n",
    "test_steps = 1\n",
    "\n",
    "model.fit_generator(\n",
    "        test_generator,\n",
    "        samples_per_epoch = nb_train_samples,\n",
    "        epochs            = epochs,\n",
    "        steps_per_epoch   = steps_per_epoch,\n",
    "        validation_data   = test_generator,\n",
    "        validation_steps  = test_steps)"
   ]
  },
  {
   "cell_type": "code",
   "execution_count": 31,
   "metadata": {},
   "outputs": [
    {
     "data": {
      "text/plain": [
       "[1.0000001537946446e-07, 1.0]"
      ]
     },
     "execution_count": 31,
     "metadata": {},
     "output_type": "execute_result"
    }
   ],
   "source": [
    "model.evaluate_generator(test_generator, test_steps)"
   ]
  },
  {
   "cell_type": "code",
   "execution_count": null,
   "metadata": {
    "collapsed": true
   },
   "outputs": [],
   "source": []
  }
 ],
 "metadata": {
  "kernelspec": {
   "display_name": "SP_chatbot",
   "language": "python",
   "name": "sp_chatbot"
  },
  "language_info": {
   "codemirror_mode": {
    "name": "ipython",
    "version": 3
   },
   "file_extension": ".py",
   "mimetype": "text/x-python",
   "name": "python",
   "nbconvert_exporter": "python",
   "pygments_lexer": "ipython3",
   "version": "3.6.4"
  }
 },
 "nbformat": 4,
 "nbformat_minor": 2
}
